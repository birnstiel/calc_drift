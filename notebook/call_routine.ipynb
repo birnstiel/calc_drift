{
 "cells": [
  {
   "cell_type": "markdown",
   "metadata": {},
   "source": [
    "# Call the fortran routine to get the drift velocity"
   ]
  },
  {
   "cell_type": "markdown",
   "metadata": {},
   "source": [
    "## Imports"
   ]
  },
  {
   "cell_type": "code",
   "execution_count": null,
   "metadata": {
    "collapsed": true
   },
   "outputs": [],
   "source": [
    "import numpy as np\n",
    "import matplotlib.pyplot as plt\n",
    "%matplotlib inline\n",
    "plt.style.use({'figure.dpi':100})"
   ]
  },
  {
   "cell_type": "markdown",
   "metadata": {},
   "source": [
    "Define a routine that calculates the locations of the grid interfaces."
   ]
  },
  {
   "cell_type": "code",
   "execution_count": null,
   "metadata": {
    "collapsed": true
   },
   "outputs": [],
   "source": [
    "def get_interfaces_from_log_cell_centers(x):\n",
    "    \"\"\"\n",
    "    Returns the cell interfaces for an array of logarithmic\n",
    "    cell centers.\n",
    "    \n",
    "    Arguments:\n",
    "    ----------\n",
    "    \n",
    "    x : array\n",
    "    :   Array of logarithmically spaced cell centers for\n",
    "        which the interfaces should be calculated\n",
    "        \n",
    "    Output:\n",
    "    -------\n",
    "    \n",
    "    xi : array\n",
    "    :    Array of length len(x)+1 containing the grid interfaces\n",
    "         defined such that 0.5*(xi[i]+xi[i+1]) = xi\n",
    "    \"\"\"\n",
    "    x = np.asarray(x)\n",
    "    B = x[1]/x[0]\n",
    "    A = (B+1)/2.\n",
    "    xi = np.append(x/A,x[-1]*B/A)\n",
    "    return xi"
   ]
  },
  {
   "cell_type": "markdown",
   "metadata": {},
   "source": [
    "Import the fortran routine."
   ]
  },
  {
   "cell_type": "code",
   "execution_count": null,
   "metadata": {
    "collapsed": true
   },
   "outputs": [],
   "source": [
    "try:\n",
    "    from calc_drift import routines\n",
    "except ImportError:\n",
    "    print('Will try to import directly compiled routines ...')\n",
    "    import sys\n",
    "    sys.path.append('calc_drift')\n",
    "    import routines\n",
    "fortran_routine = routines.duststep_donorcell"
   ]
  },
  {
   "cell_type": "markdown",
   "metadata": {},
   "source": [
    "Get some constants from the fortran module. "
   ]
  },
  {
   "cell_type": "code",
   "execution_count": null,
   "metadata": {
    "collapsed": true
   },
   "outputs": [],
   "source": [
    "au    = routines.constants.au\n",
    "rho_s = routines.variables.rho_s"
   ]
  },
  {
   "cell_type": "markdown",
   "metadata": {},
   "source": [
    "You can also set some of the module values such as\n",
    "\n",
    "```python\n",
    "\n",
    "routines.variables.m_star = 2*routines.constants.m_sun # for a 2 solar mass star\n",
    "routines.switches.dust_diffusion = 1\n",
    "\n",
    "```\n",
    "\n",
    "in case use used different settings."
   ]
  },
  {
   "cell_type": "markdown",
   "metadata": {},
   "source": [
    "# Call the routine"
   ]
  },
  {
   "cell_type": "markdown",
   "metadata": {},
   "source": [
    "Initialize the quantities - *use your own input here*"
   ]
  },
  {
   "cell_type": "code",
   "execution_count": null,
   "metadata": {
    "collapsed": true
   },
   "outputs": [],
   "source": [
    "n_r                = 200\n",
    "g2d                = 100.\n",
    "x                  =  np.logspace(-1,3,n_r)*au\n",
    "x05                = get_interfaces_from_log_cell_centers(x)[:-1]\n",
    "grainsize          = 1e0\n",
    "grainmass          = 4*np.pi/3.*rho_s*grainsize**3\n",
    "sigma_g            = 100*(x/au)**-1*(x<100*au)+1e-100\n",
    "sigma_1            = np.outer(grainsize**(0.5),x)\n",
    "sigma_d            = sigma_g/g2d\n",
    "T                  = 200*(x/au)**-1\n",
    "sigma_dot          = np.zeros_like(x)\n",
    "v_gas              = np.zeros_like(x)\n",
    "alpha              = np.ones_like(x)\n",
    "coagulation_method = 1"
   ]
  },
  {
   "cell_type": "markdown",
   "metadata": {},
   "source": [
    "Make a simplified time loop"
   ]
  },
  {
   "cell_type": "code",
   "execution_count": null,
   "metadata": {},
   "outputs": [],
   "source": [
    "n_t  = 100\n",
    "year = 3.15e7\n",
    "time = np.logspace(0,5,n_t)*year\n",
    "tc   = 0.\n",
    "out  = []\n",
    "sigma1 = sigma_d.copy()\n",
    "\n",
    "for t in time:\n",
    "    #\n",
    "    # calculate time step and update current time\n",
    "    #\n",
    "    dt  = t-tc\n",
    "    tc += dt\n",
    "    #\n",
    "    # call the routine and store all output for every time step in the list `out`\n",
    "    #\n",
    "    _ = fortran_routine(dt, grainsize, grainmass, x, x05, sigma_g, T,\\\n",
    "                        sigma_dot, sigma1, v_gas, alpha, coagulation_method, n_r)\n",
    "    out += [_]\n",
    "    #\n",
    "    # assign the output to reasonable variable names and update the curent value\n",
    "    #\n",
    "    sigma2, dust_accretion, dust_flux_o, v_drift, v_05, flim, diff, dust_flux, a, b, c, d = _\n",
    "    sigma1 = sigma2.copy()"
   ]
  },
  {
   "cell_type": "markdown",
   "metadata": {},
   "source": [
    "# Plotting"
   ]
  },
  {
   "cell_type": "markdown",
   "metadata": {},
   "source": [
    "### Plot surface density change"
   ]
  },
  {
   "cell_type": "code",
   "execution_count": null,
   "metadata": {},
   "outputs": [],
   "source": [
    "f,ax = plt.subplots()\n",
    "for i in [0,-1]:\n",
    "    ax.loglog(x/au,out[i][0],label='time = {:.2g} year'.format(time[i]/year))\n",
    "ax.set_xlabel('r [au]')\n",
    "ax.set_ylabel('$\\Sigma_\\mathrm{dust}$ [g cm$^{-2}$]')\n",
    "ax.set_ylim(1e-5,1e5)\n",
    "ax.legend(fontsize='small',loc='best');"
   ]
  },
  {
   "cell_type": "markdown",
   "metadata": {},
   "source": [
    "### Plot drift velocities"
   ]
  },
  {
   "cell_type": "code",
   "execution_count": null,
   "metadata": {},
   "outputs": [],
   "source": [
    "f,ax = plt.subplots()\n",
    "i = 0\n",
    "ax.loglog(x/au,-out[i][3],label='v_drift'.format(time[i]/year))\n",
    "ax.loglog(x05/au,-out[i][4],label='v_05'.format(time[i]/year))\n",
    "ax.set_xlabel('r [au]')\n",
    "ax.set_ylabel('$-v_\\mathrm{r}$ [cm s$^{-1}$]')\n",
    "ax.set_title('negative dust velocity')\n",
    "ax.set_ylim(1e-5,1e5)\n",
    "ax.legend(fontsize='small',loc='best');"
   ]
  }
 ],
 "metadata": {
  "kernelspec": {
   "display_name": "Python 3",
   "language": "python",
   "name": "python3"
  },
  "language_info": {
   "codemirror_mode": {
    "name": "ipython",
    "version": 3
   },
   "file_extension": ".py",
   "mimetype": "text/x-python",
   "name": "python",
   "nbconvert_exporter": "python",
   "pygments_lexer": "ipython3",
   "version": "3.6.1"
  }
 },
 "nbformat": 4,
 "nbformat_minor": 2
}
